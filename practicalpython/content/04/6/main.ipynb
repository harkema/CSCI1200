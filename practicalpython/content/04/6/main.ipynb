{
 "cells": [
  {
   "cell_type": "markdown",
   "metadata": {},
   "source": [
    "The `main` function\n",
    "==============\n",
    "\n",
    "All programs have a special function called main, which is what is run when you run your program. Most programming languages have special ways to write down your function.\n",
    "\n",
    "What we do in python is the following:\n",
    "\n",
    "```python\n",
    "def main():\n",
    "    # code to run our program goes here\n",
    "    \n",
    "# two underscode precede and succeed \"name\" and \"main\" this is\n",
    "# important that you type exactly like this\n",
    "if __name__ == \"__main__\":\n",
    "    main()\n",
    "```\n",
    "\n",
    "We'll talk more about the more techincal reasons that we do this when we talk about modules, but for now, here is the reason that we care most about:\n",
    "\n",
    "- Having a `main` function adds nice structure to our program-it tells future programmers (and our TAs) where to look to see what's happening when our program runs.\n",
    "\n",
    "We care about writing well-structured code and you should too!\n",
    "\n",
    "*__From Homework 3 onwards, you will be required to have a `main` function__*\n",
    "\n",
    "Let's look at some examples of well-structured programs that use a `main` function:"
   ]
  },
  {
   "cell_type": "code",
   "execution_count": null,
   "metadata": {},
   "outputs": [],
   "source": [
    "# Example 1\n",
    "\n",
    "def subtract(x, y):\n",
    "    s = x - y\n",
    "    print(str(x) + \" - \" + str(y) + \" = \" + str(s))\n",
    "\n",
    "def main():\n",
    "    print(\"This program does some subtraction experiments\")\n",
    "    a = 10\n",
    "    b = 7\n",
    "    subtract(a, b)\n",
    "\n",
    "# if we forget the following statement, our main function\n",
    "# will never get called! :(\n",
    "if __name__ == \"__main__\":\n",
    "    main()"
   ]
  },
  {
   "cell_type": "code",
   "execution_count": null,
   "metadata": {},
   "outputs": [],
   "source": [
    "# Example 2\n",
    "def subtract(x, y):\n",
    "    s = x - y\n",
    "    print(str(x) + \" - \" + str(y) + \" = \" + str(s))\n",
    "\n",
    "def main():\n",
    "    print(\"This program does some subtraction experiments\")\n",
    "    a = 10\n",
    "    b = 7\n",
    "    subtract(a, b)\n",
    "    n1 = int(input(\"Please type an int: \"))\n",
    "    n2 = int(input(\"Please type an int: \"))\n",
    "    subtract(n1, n2)\n",
    "\n",
    "if __name__ == \"__main__\":\n",
    "    main()"
   ]
  },
  {
   "cell_type": "code",
   "execution_count": null,
   "metadata": {},
   "outputs": [],
   "source": [
    "# Example 3\n",
    "def subtract_user():\n",
    "    x = int(input(\"Please type an int: \"))\n",
    "    y = int(input(\"Please type an int: \"))\n",
    "    s = x - y\n",
    "    print(str(x) + \" - \" + str(y) + \" = \" + str(s))\n",
    "\n",
    "def main():\n",
    "    print(\"This program does subtraction four times\")\n",
    "    subtract_user()\n",
    "    subtract_user()\n",
    "    subtract_user()\n",
    "    subtract_user()\n",
    "\n",
    "if __name__ == \"__main__\":\n",
    "    main()"
   ]
  },
  {
   "cell_type": "code",
   "execution_count": null,
   "metadata": {},
   "outputs": [],
   "source": []
  }
 ],
 "metadata": {
  "kernelspec": {
   "display_name": "Python 3",
   "language": "python",
   "name": "python3"
  },
  "language_info": {
   "codemirror_mode": {
    "name": "ipython",
    "version": 3
   },
   "file_extension": ".py",
   "mimetype": "text/x-python",
   "name": "python",
   "nbconvert_exporter": "python",
   "pygments_lexer": "ipython3",
   "version": "3.6.1"
  }
 },
 "nbformat": 4,
 "nbformat_minor": 2
}

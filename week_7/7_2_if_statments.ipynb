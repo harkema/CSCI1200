{
 "cells": [
  {
   "cell_type": "markdown",
   "metadata": {},
   "source": [
    "`if` statements / conditionals / selection statements\n",
    "===========\n",
    "\n",
    "An `if` statement is a control structure (similarly to how [`for` loops are control structures](../week_5/5_3_for_loops.ipynb)) that we use to create branches in our code. This means that our code can do one thing under certain circumstances and another thing under different circumstances.\n",
    "\n",
    "Let's take a look at the syntax of an `if` statement:\n",
    "\n",
    "```python\n",
    "if logical_expression:\n",
    "    # do something\n",
    "```\n",
    "\n",
    "For instance, take a look at the code in the following cell."
   ]
  },
  {
   "cell_type": "code",
   "execution_count": null,
   "metadata": {},
   "outputs": [],
   "source": [
    "# TODO: run me! Under what circumstances is \"big number\" printed out?\n",
    "# Answer:\n",
    "\n",
    "number = int(input(\"number? \"))\n",
    "\n",
    "if number > 100:\n",
    "    print(\"big number\")\n",
    "    \n",
    "print(\"done\")"
   ]
  },
  {
   "cell_type": "markdown",
   "metadata": {},
   "source": [
    "`if` statements are like forks in the road for our code. If the logical expression evaluates to `True`, the code within the statement (indented) will be run, otherwise it won't be. When the code inside the statement finishes running, the program continues executing as normal from the end of the statement.\n",
    "\n",
    "![if statement as a flowchart](if_chart.png)"
   ]
  },
  {
   "cell_type": "code",
   "execution_count": null,
   "metadata": {},
   "outputs": [],
   "source": [
    "# TODO: write your own if statement here!"
   ]
  }
 ],
 "metadata": {
  "kernelspec": {
   "display_name": "Python 3",
   "language": "python",
   "name": "python3"
  },
  "language_info": {
   "codemirror_mode": {
    "name": "ipython",
    "version": 3
   },
   "file_extension": ".py",
   "mimetype": "text/x-python",
   "name": "python",
   "nbconvert_exporter": "python",
   "pygments_lexer": "ipython3",
   "version": "3.6.1"
  }
 },
 "nbformat": 4,
 "nbformat_minor": 2
}

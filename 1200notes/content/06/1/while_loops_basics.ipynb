{
 "cells": [
  {
   "cell_type": "markdown",
   "metadata": {},
   "source": [
    "`while` Loops\n",
    "=======\n",
    "\n",
    "A `while` loop is a control structure (similar to how a conditional statement is a control structure) that we use to repeat certain pieces of code (and avoid all that copy-pasting).\n",
    "\n",
    "We use while loops to repeat a block of code either a _predetermined_ number of times or an _unknown_ number of times.\n",
    "\n",
    "Let's take a look at the syntax of a `while` loop.\n",
    "\n",
    "```python\n",
    "while logical_expression:\n",
    "    # do things\n",
    "    print(1) # for example, print the number 1\n",
    "    \n",
    "print(\"done\")  # this is outside the while loop\n",
    "```\n",
    "\n",
    "There are a few important pieces here:\n",
    "1. `logical_expression` this will be how our program determines whether or not the loop needs to be run again. It's the same as a logical expression in an `if` statement!\n",
    "2. __indentation__: notice that everything that we want repeated __must__ be indented \"inside\" the `while` loop. Once we return to our base level of indentation, the code will no longer be repeated.\n",
    "\n",
    "Let's take a look at an example that we can run."
   ]
  },
  {
   "cell_type": "code",
   "execution_count": null,
   "metadata": {},
   "outputs": [],
   "source": [
    "# TODO: run me!\n",
    "\n",
    "x = 0\n",
    "while x < 10:\n",
    "    print(x)\n",
    "    x = x + 1  # what do you think would happen if we didn't include this line?\n",
    "    \n",
    "print(\"done!\")  # how many times is this printed out?"
   ]
  },
  {
   "cell_type": "code",
   "execution_count": null,
   "metadata": {},
   "outputs": [],
   "source": [
    "# TODO: run me! What is the difference between this example and \n",
    "# the previous one?\n",
    "\n",
    "x = 0\n",
    "while x < 10:\n",
    "    print(x)\n",
    "    x = x + 2\n",
    "    \n",
    "print(\"done!\")  # how many times is this printed out?"
   ]
  },
  {
   "cell_type": "markdown",
   "metadata": {},
   "source": [
    "The way that `while` loops work is that they iterate _while_ the test is `True`. You can verbalize this as (for example) \"print out the even values of `x` while it is less than 10\"."
   ]
  },
  {
   "cell_type": "markdown",
   "metadata": {},
   "source": [
    "Updating\n",
    "---------\n",
    "\n",
    "When we write `while` loops it's very important that we include an update to the variable that we are testing in the `logical_expression`.\n",
    "\n",
    "If we forget to do this, we will cause an __infinite loop__ from which our program will never ever ever exit."
   ]
  },
  {
   "cell_type": "code",
   "execution_count": null,
   "metadata": {},
   "outputs": [],
   "source": [
    "# TODO: run me, but be ready to press the stop button!\n",
    "\n",
    "x = 0\n",
    "while x < 10: # x is never updated\n",
    "    print(x)\n",
    "    \n",
    "print(\"done!\")  # how many times is this printed out?"
   ]
  },
  {
   "cell_type": "markdown",
   "metadata": {},
   "source": [
    "A closer look at the `logical_expression`\n",
    "-------------------\n",
    "\n",
    "Our `logical_expression` is going to *__almost always__* (always for the purposes and intents of this class) involve testing the value of one or more variables against some other values. For instance, `x < 0` or `x != y`.\n",
    "\n",
    "There are three important things to remember about the variable whose value you are testing:\n",
    "1. Always __initialize__ its value _before_ the while loop.\n",
    "2. Always __double check__ to make sure you are testing what you want to be testing.\n",
    "3. Always have a statement that could __update__ the value of this variable somewhere in your loop.\n",
    "\n",
    "Take a look at the following examples:"
   ]
  },
  {
   "cell_type": "code",
   "execution_count": null,
   "metadata": {},
   "outputs": [],
   "source": [
    "# TODO: run me!\n",
    "\n",
    "x = 100  # initialize\n",
    "while x > 0: # double check this\n",
    "    print(x)\n",
    "    x = x - (x % 3 + 1)  # this update will always run\n",
    "    \n",
    "print(\"done!\")  # how many times is this printed out?"
   ]
  },
  {
   "cell_type": "code",
   "execution_count": null,
   "metadata": {},
   "outputs": [],
   "source": [
    "# TODO: run me!\n",
    "\n",
    "x = 100  # initialize\n",
    "while x > 0: # double check this\n",
    "    print(x)\n",
    "    value = int(input(\"Enter a number: \"))\n",
    "    if value >= 0:\n",
    "        x = x - value  # doesn't always update, but CAN update\n",
    "    \n",
    "print(\"done!\")  # how many times is this printed out?"
   ]
  },
  {
   "cell_type": "code",
   "execution_count": null,
   "metadata": {},
   "outputs": [],
   "source": []
  }
 ],
 "metadata": {
  "kernelspec": {
   "display_name": "Python 3",
   "language": "python",
   "name": "python3"
  },
  "language_info": {
   "codemirror_mode": {
    "name": "ipython",
    "version": 3
   },
   "file_extension": ".py",
   "mimetype": "text/x-python",
   "name": "python",
   "nbconvert_exporter": "python",
   "pygments_lexer": "ipython3",
   "version": "3.6.1"
  }
 },
 "nbformat": 4,
 "nbformat_minor": 2
}

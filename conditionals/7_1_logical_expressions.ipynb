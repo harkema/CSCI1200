{
 "cells": [
  {
   "cell_type": "markdown",
   "metadata": {},
   "source": [
    "Logical Expressions\n",
    "===============\n",
    "\n",
    "[Long ago](../week_2/2_2_data_types_operations.ipynb) we promised you that we would talk about boolean values in greater depth. The theme of this week is making good on that promise.\n",
    "\n",
    "So far, we know that the boolean data type has two values, `True` and `False`. We also know that underneath it all, our computers are executing machine code to manipulate binary data (\"bits\") that are 1s and 0s. The boolean data type maps directly to these 1s (`True`/\"on\") and 0s (`False`/\"off\").\n",
    "\n",
    "Take a look at what happens when we cast boolean values to ints."
   ]
  },
  {
   "cell_type": "code",
   "execution_count": null,
   "metadata": {},
   "outputs": [],
   "source": [
    "# TODO: run me!\n",
    "int(True)"
   ]
  },
  {
   "cell_type": "code",
   "execution_count": null,
   "metadata": {},
   "outputs": [],
   "source": [
    "# TODO: run me!\n",
    "int(False)"
   ]
  },
  {
   "cell_type": "markdown",
   "metadata": {},
   "source": [
    "__Logical expressions__ are what we call all expressions that evaluate to either `True` or `False`. These expressions may involve one or both of __comparison operators__ and __logical operators__."
   ]
  },
  {
   "cell_type": "markdown",
   "metadata": {},
   "source": [
    "Comparison Operators\n",
    "------------\n",
    "\n",
    "Comparison operators compare two values and give back the result of `True` or `False`. Some of these comparison operators you may have seen previously in math classes, but some you probably haven't.\n",
    "\n",
    "```python\n",
    "value1 < value2  # less than\n",
    "value1 <= value2  # less than or equal to \n",
    "#(NOTE! \"=<\" does NOT work!)\n",
    "\n",
    "value1 > value2  # greater than\n",
    "value1 >= value2  # greater than or equal to \n",
    "# (NOTE! \"=< does NOT work!)\n",
    "\n",
    "value1 == value2  # equal\n",
    "value1 != value2  # not equal\n",
    "\n",
    "\n",
    "```\n",
    "\n",
    "Before you play around with these, let's pay special attention to the fact that to *test equality, we __must__ use `==`, NOT `=`*. This is because just `=` is our assignment operator, that's how we assign a value to a variable, which is very different than testing for equality!\n"
   ]
  },
  {
   "cell_type": "code",
   "execution_count": null,
   "metadata": {},
   "outputs": [],
   "source": [
    "# TODO: run me. Play around with the comparison operators\n",
    "# Can you use < between floats? strings? \n",
    "# what does < between strings test for?\n",
    "# Answer:\n",
    "\n",
    "1 < 3  # notice that < turned purple! "
   ]
  },
  {
   "cell_type": "code",
   "execution_count": null,
   "metadata": {},
   "outputs": [],
   "source": [
    "\"cat\" > \"alpaca\""
   ]
  },
  {
   "cell_type": "code",
   "execution_count": null,
   "metadata": {},
   "outputs": [],
   "source": [
    "# TODO: run this cell. Fix the SyntaxError\n",
    "1.0 = 1"
   ]
  },
  {
   "cell_type": "code",
   "execution_count": null,
   "metadata": {},
   "outputs": [],
   "source": [
    "0.0000000000000000000001 == 0"
   ]
  },
  {
   "cell_type": "code",
   "execution_count": null,
   "metadata": {},
   "outputs": [],
   "source": [
    "\"Flamingo\" != \"flamingo\""
   ]
  },
  {
   "cell_type": "code",
   "execution_count": null,
   "metadata": {},
   "outputs": [],
   "source": [
    "\"yes\" == \"YeS\""
   ]
  },
  {
   "cell_type": "markdown",
   "metadata": {},
   "source": [
    "Comparison operators have *__lower__* precedence than all of our mathematical operators. For example, in the expression:\n",
    "\n",
    "```python\n",
    "3 + 4 < 5\n",
    "```\n",
    "\n",
    "The `3 + 4` will be evaluated before the less than comparison operator.\n",
    "\n",
    "Comparison operators include `==`,`!=`,`<=`,`>=`,`>`,`<`, and `in`.\n",
    "\n",
    "`in` can be used with strings and lists to test for membership (\"is there an `\"a\" in \"cat\"`)."
   ]
  },
  {
   "cell_type": "markdown",
   "metadata": {},
   "source": [
    "Logical Operators\n",
    "-------------\n",
    "\n",
    "The second piece of the logic puzzle is the __logical operator__ a logical operator is similar to a comparison operator except that it __only__ operates on boolean values.\n",
    "\n",
    "Our logical operators are:\n",
    "\n",
    "```python\n",
    "boolean_value1 and boolean_value2  # and\n",
    "boolean_value1 or boolean_value2  # or\n",
    "not boolean_value1  # not\n",
    "```\n",
    "\n",
    "We'll concentrate on `and` and `or` for the time being (though we encourage you to play around with `not`!).\n",
    "\n",
    "`and`\n",
    "-------\n",
    "Think of `and` as translating to: `True` if __both__ the first value and the second value are `True`.\n",
    "\n",
    "For instance, if you wanted a value of `True` if someone was both at least `18` and a Colorado resident, you might have code like:\n",
    "\n",
    "```python\n",
    "age = 19\n",
    "residency = \"Colorado\"\n",
    "print(age >= 18 and residency == \"Colorado\")\n",
    "```"
   ]
  },
  {
   "cell_type": "code",
   "execution_count": null,
   "metadata": {},
   "outputs": [],
   "source": [
    "# TODO: play with the and logical operator.\n",
    "# What happens if one of the values is false?\n",
    "# What happens if both of the values are false?\n",
    "# Answer:\n"
   ]
  },
  {
   "cell_type": "markdown",
   "metadata": {},
   "source": [
    "`or`\n",
    "-------\n",
    "Think of `or` as translating to: `True` if __either__ the first value or the second value is `True`.\n",
    "\n",
    "For instance, if you wanted a value of `True` if someone was either an INFO major or a CSCI major:\n",
    "\n",
    "```python\n",
    "name = \"Mohamed\"\n",
    "major = \"INFO\"\n",
    "print(major == \"INFO\" or major == \"CSCI\")\n",
    "```"
   ]
  },
  {
   "cell_type": "code",
   "execution_count": null,
   "metadata": {},
   "outputs": [],
   "source": [
    "# TODO: run me!\n",
    "name = \"Mohamed\"\n",
    "major = \"INFO\"\n",
    "print(major == \"INFO\" or major == \"CSCI\")"
   ]
  },
  {
   "cell_type": "code",
   "execution_count": null,
   "metadata": {},
   "outputs": [],
   "source": [
    "# TODO: run me!\n",
    "name = \"Susan\"\n",
    "major = \"ATOC\"\n",
    "print(major == \"INFO\" or major == \"CSCI\")"
   ]
  },
  {
   "cell_type": "code",
   "execution_count": null,
   "metadata": {},
   "outputs": [],
   "source": [
    "# TODO: run me! What happens?\n",
    "# Answer:\n",
    "major == \"INFO\" or \"CSCI\""
   ]
  },
  {
   "cell_type": "markdown",
   "metadata": {},
   "source": [
    "In the cell above we have code that doesn't quite do what we wanted it to. We've put it here because this is a common bug when writing logical expressions. Even if you are testing the value of the same variable twice, you __must__ write the name of the variable again (because python isn't as smart as you or I, we have to be very very explicit about everything!)."
   ]
  },
  {
   "cell_type": "code",
   "execution_count": null,
   "metadata": {},
   "outputs": [],
   "source": []
  }
 ],
 "metadata": {
  "kernelspec": {
   "display_name": "Python 3",
   "language": "python",
   "name": "python3"
  },
  "language_info": {
   "codemirror_mode": {
    "name": "ipython",
    "version": 3
   },
   "file_extension": ".py",
   "mimetype": "text/x-python",
   "name": "python",
   "nbconvert_exporter": "python",
   "pygments_lexer": "ipython3",
   "version": "3.6.1"
  }
 },
 "nbformat": 4,
 "nbformat_minor": 2
}

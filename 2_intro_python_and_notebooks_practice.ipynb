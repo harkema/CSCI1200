{
 "cells": [
  {
   "cell_type": "markdown",
   "metadata": {},
   "source": [
    "Introduction to Python\n",
    "============\n",
    "\n",
    "Python is the programming language that we are using in this course. We're using version 3, so if you have experience with Python 2.7, you will see a few things that are [different](https://sebastianraschka.com/Articles/2014_python_2_3_key_diff.html).\n",
    "\n",
    "Python programs are composed of a series of commands and statements that are executed in order, from top to bottom.\n",
    "\n",
    "In this set of notes, we'll go over __comments__, the __print__ command, and __variable declarations__."
   ]
  },
  {
   "cell_type": "markdown",
   "metadata": {},
   "source": [
    "Comments\n",
    "------\n",
    "In the examples that we've shown you so far, there are certain lines in our blocks of code that begin with a `#` character. These lines are called  comments. Comments are parts of programs that _are not executed by the computer_ but serve the important purpose of giving clarification to the _people_ who are reading your code.\n",
    "\n",
    "There are a few ways to create comments in python. The first way is with a `#` symbol. This makes it so that anything on the line after the `#` is considered a comment.\n",
    "\n",
    "```python\n",
    "# this is a comment that is a whole line\n",
    "print(\"this is a print statement\")  # comment on a line with code\n",
    "```\n",
    "\n",
    "In the above example, the `print` statement would still be executed like normal. Luckily for us, our programming environment is going to help us out by color-coding our code to help us identify which parts of our code are actually going to be executed (non-comments) and which parts won't be (comments)."
   ]
  },
  {
   "cell_type": "markdown",
   "metadata": {},
   "source": [
    "The `print` Command\n",
    "------------------\n",
    "\n",
    "In the previous installment, you saw the `print` command in some of the examples. Let's break an example down:\n",
    "\n",
    "```python\n",
    "print(\"hello\")\n",
    "```\n",
    "\n",
    "In this example you can see that there are 3 different parts to the command (demonstrated by the different colors).\n",
    "\n",
    "1. `print` this is the part of the command that says _what we want to do_.\n",
    "2. `( ... )` the parentheses are indicating that this command takes an argument (see part 3).\n",
    "3. `\"hello\"` this is what we call _the argument_. This is what we want to apply the command `print` to.\n",
    "    1. Note: to print text, it's important that we put quotes around it here. We'll learn more about this in the \"Data types\" section of the notes.\n",
    "\n"
   ]
  },
  {
   "cell_type": "code",
   "execution_count": null,
   "metadata": {},
   "outputs": [],
   "source": [
    "# TODO: write a couple print statements here.\n",
    "\n",
    "\n",
    "\n",
    "# TODO: what order are your print statements executed \n",
    "# in when you run the code?\n",
    "# Answer:\n"
   ]
  },
  {
   "cell_type": "markdown",
   "metadata": {},
   "source": [
    "Variables and Variable Declarations\n",
    "----------------\n",
    "Variables are how our programs are going to remember information. Our variables have two parts: __names__ and __values__. When we create a variable we set its name and assign it an initial value.\n",
    "\n",
    "```python\n",
    "name = value\n",
    "```\n",
    "\n",
    "The name *__always__* goes on the left of the equals sign and the value *__always__* goes on the right of the equals sign. If you switch these you will get an error!\n",
    "\n",
    "For example, if I want a variable called `age` to have the value `91`, I would write:\n",
    "\n",
    "```python\n",
    "age = 91\n",
    "```\n",
    "\n",
    "We can use any name for our variables as long as they begin with a letter. Ideally, we want names that are descriptive of the values that the variables hold. \n",
    "\n",
    "```python\n",
    "my_var = 1\n",
    "a = 2\n",
    "\n",
    "# notice that we separate words with \n",
    "# underscores to improve readability!\n",
    "flying_purple_people_eater = 3 \n",
    "\n",
    "secrets = 42\n",
    "```\n",
    "\n",
    "Once we've declared a variable, we can then use its value later in our program. For instance, if I want to print out the value of a variable, I need to pass the variable as the argument of the print command:\n",
    "\n",
    "```python\n",
    "print(variable)\n",
    "```\n",
    "\n",
    "So for our example with the variable `age`, a completed example would have the code:\n",
    "\n",
    "```python\n",
    "age = 91 # declare the variable first\n",
    "print(age) # now I can print it out\n",
    "```"
   ]
  },
  {
   "cell_type": "code",
   "execution_count": null,
   "metadata": {},
   "outputs": [],
   "source": [
    "age = 91 # declare the variable first\n",
    "print(age) # now I can print it out\n",
    "\n",
    "# TODO: run this cell. Does the print command print the name of the \n",
    "# variable or its value?\n",
    "# Answer: "
   ]
  },
  {
   "cell_type": "code",
   "execution_count": null,
   "metadata": {},
   "outputs": [],
   "source": [
    "a = 7\n",
    "# TODO: write a line of code that prints the value of the variable a\n"
   ]
  },
  {
   "cell_type": "code",
   "execution_count": null,
   "metadata": {},
   "outputs": [],
   "source": [
    "# TODO: write a line of code that declares a new variable and sets\n",
    "# its value equal to 999\n"
   ]
  },
  {
   "cell_type": "markdown",
   "metadata": {},
   "source": [
    "We can also do math with variables!  \n",
    "\n",
    "Remember, we *__always__* have the variable name on the left and its value on the right. \n",
    "\n",
    "For instance:\n",
    "\n",
    "```python\n",
    "my_big_number = 100000 + 547362\n",
    "my_small_number = -799 - 47\n",
    "```\n",
    "\n",
    "If we want to use a variable in a calculation, that's also okay:\n",
    "\n",
    "```python\n",
    "first_num = 54\n",
    "second_num = first_num + 72\n",
    "print(second_num)\n",
    "```\n",
    "\n",
    "Remember: variables must always be declared before you use them! \n",
    "\n",
    "We'll explore what kinds of math operations we can use with variables when we talk about data types."
   ]
  },
  {
   "cell_type": "code",
   "execution_count": null,
   "metadata": {},
   "outputs": [],
   "source": [
    "x = 10\n",
    "y = -1\n",
    "# TODO: write the code that creates a new variable and sets its \n",
    "# value equal to the sum of x and y. Then, print out the value of \n",
    "# that variable. Can you print out the sum of x and y without saving \n",
    "# the value in a variable first?\n"
   ]
  }
 ],
 "metadata": {
  "kernelspec": {
   "display_name": "Python 3",
   "language": "python",
   "name": "python3"
  },
  "language_info": {
   "codemirror_mode": {
    "name": "ipython",
    "version": 3
   },
   "file_extension": ".py",
   "mimetype": "text/x-python",
   "name": "python",
   "nbconvert_exporter": "python",
   "pygments_lexer": "ipython3",
   "version": "3.6.1"
  }
 },
 "nbformat": 4,
 "nbformat_minor": 2
}

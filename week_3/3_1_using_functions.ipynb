{
 "cells": [
  {
   "cell_type": "markdown",
   "metadata": {},
   "source": [
    "Using functions\n",
    "==========\n",
    "\n",
    "In previous installments of the course notes, we've seen the `print` and `input` functions.\n",
    "\n",
    "Functions make up the main building blocks of our programs—they are re-usable pieces of code that are nicely wrapped up for us. For instance, the implementation of the `print` function may have 50 lines of code, it may only have 2. We don't know and we don't care. To use it, we just have to write `print(\"my fantastic message\")`.\n",
    "\n",
    "We can give the general format for using functions as:\n",
    "\n",
    "```python\n",
    "return_value = function_name(parameters)\n",
    "```\n",
    "\n",
    "Not all functions have all parts of this general format, but __all functions do have: `function_name()`__ (a name and parentheses).\n",
    "\n",
    "If we forgot the parentheses, python would interpret `function_name` as a variable, which we don't want."
   ]
  },
  {
   "cell_type": "markdown",
   "metadata": {},
   "source": [
    "Parameters/Arguments\n",
    "------------\n",
    "\n",
    "You'll notice that we use the words \"parameters\" and \"arguments\" pretty much interchangeably to refer to the same thing. This is ok!\n",
    "\n",
    "__Parameters__: the values that a function takes and uses to perform its task. (further refined in [section 3.4](3_4_writing_functions_parameters.ipynb))\n",
    "\n",
    "For instance, `print(\"my message\")` will print out `my message`.\n",
    "\n",
    "Some functions have a fixed number of parameters that they take. For example, the `len()` function only takes 1 parameter.\n",
    "\n",
    "Some functions can take a variable number of parameters. For example, we can write `print()`, `print(\"hello\")`, and `print(\"hello\", \"there\")`. These function calls all do slightly different things.\n",
    "\n",
    "Notice that when we provide multiple parameters to a function, we use a comma (`,`) to separate them."
   ]
  },
  {
   "cell_type": "code",
   "execution_count": null,
   "metadata": {},
   "outputs": [],
   "source": [
    "# TODO: run this cell, what does the len() function do?\n",
    "# Answer: \n",
    "print(len(\"hello\"))"
   ]
  },
  {
   "cell_type": "code",
   "execution_count": null,
   "metadata": {},
   "outputs": [],
   "source": [
    "# TODO: run this cell, what happens if you run the len function \n",
    "# with more than one parameter?\n",
    "# Answer: \n",
    "print(len(\"hello\", \"there\"))"
   ]
  },
  {
   "cell_type": "code",
   "execution_count": null,
   "metadata": {},
   "outputs": [],
   "source": [
    "# TODO: run this cell, what happens if you run the len function \n",
    "# with no parameters?\n",
    "# Answer: \n",
    "print(len())"
   ]
  },
  {
   "cell_type": "code",
   "execution_count": null,
   "metadata": {},
   "outputs": [],
   "source": [
    "# TODO: compare and contrast calls to print() with variable numbers of\n",
    "# parameters\n",
    "print()\n",
    "print(\"hello\")\n",
    "print(\"hello\", \"there\")"
   ]
  },
  {
   "cell_type": "markdown",
   "metadata": {},
   "source": [
    "Functions without return values\n",
    "----------------\n",
    "\n",
    "Our best example of a function without a return value is `print()`. \n",
    "\n",
    "We call functions without return values like:\n",
    "\n",
    "```python\n",
    "function_name(parameters)\n",
    "```\n",
    "\n",
    "\n",
    "Out of curiousity, let's investigate this lack-of-return-value more."
   ]
  },
  {
   "cell_type": "code",
   "execution_count": null,
   "metadata": {},
   "outputs": [],
   "source": [
    "# TODO: run me. If we try to save a return value for a function that doesn't\n",
    "# have one, what happens?\n",
    "# Answer:\n",
    "\n",
    "print(\"first message\")\n",
    "print_return = print(\"second message\")"
   ]
  },
  {
   "cell_type": "code",
   "execution_count": null,
   "metadata": {},
   "outputs": [],
   "source": [
    "# now let's investigate the value of the print_return variable\n",
    "# TODO: print out the value of print_return\n",
    "print(print_return)"
   ]
  },
  {
   "cell_type": "markdown",
   "metadata": {},
   "source": [
    "This shows us that if a function doesn't have a return value and we try to save it anyways, we get a special python value called `None`."
   ]
  },
  {
   "cell_type": "code",
   "execution_count": null,
   "metadata": {},
   "outputs": [],
   "source": [
    "# TODO: run me\n",
    "print(type(None))"
   ]
  },
  {
   "cell_type": "markdown",
   "metadata": {},
   "source": [
    "`None` is a value that doesn't have any of our 4 basic types (`int`, `float`, `string`, `boolean`). In fact, it has its own type only for itself! `None` is a special value that literally represents nothing. We'll get into this more later in the course."
   ]
  },
  {
   "cell_type": "markdown",
   "metadata": {},
   "source": [
    "Functions with return values\n",
    "----------------\n",
    "\n",
    "A great example of a function _with_ a return value is `input()`. `len()` also has a return value. In fact, _most_ functions that we will use in this course, and especially [python's built-in functions](3_2_builtin_functions.ipynb) have return values.\n",
    "\n",
    "*__Remember: if you do not save a return value in a variable, you cannot use it later!__*"
   ]
  },
  {
   "cell_type": "code",
   "execution_count": null,
   "metadata": {},
   "outputs": [],
   "source": [
    "# TODO: run this cell, why do you get an error?\n",
    "# Answer:\n",
    "input(\"Do you own a labradoodle?\")\n",
    "print(answer)"
   ]
  },
  {
   "cell_type": "markdown",
   "metadata": {},
   "source": [
    "When we call functions with return values, we use the format:\n",
    "\n",
    "```python\n",
    "return_value = function_name(parameters)\n",
    "```"
   ]
  },
  {
   "cell_type": "code",
   "execution_count": null,
   "metadata": {},
   "outputs": [],
   "source": [
    "# TODO: use the len() function to find the length of your favorite \n",
    "# strings, then add these lengths together and report them to the user."
   ]
  },
  {
   "cell_type": "markdown",
   "metadata": {},
   "source": [
    "String functions\n",
    "-----------\n",
    "\n",
    "Of course, it would be too simple if all functions worked exactly the same way. We'll take more about exactly why this is, but string functions are formatted slightly differently. The general format for string functions is:\n",
    "\n",
    "```python\n",
    "return_value = string_var.function_name(parameters)\n",
    "```\n",
    "\n",
    "Let's look at an example: the `islower()` function.\n",
    "\n",
    "```python\n",
    "my_string = \"I am a string!\"\n",
    "result = my_string.islower()\n",
    "print(result)\n",
    "```\n",
    "\n",
    "What this string is doing is saying \"Hey, `my_string` variable! I want you to tell me if you are lower case!\"\n",
    "\n",
    "Another example: the `lower()` function.\n",
    "\n",
    "```python\n",
    "my_string = \"I am a string!\"\n",
    "result = my_string.lower()\n",
    "print(result)\n",
    "```\n",
    "\n",
    "What this string is doing is saying \"Hey, `my_string` variable! I want you to give me back the lower case version of yourself!\""
   ]
  },
  {
   "cell_type": "code",
   "execution_count": null,
   "metadata": {},
   "outputs": [],
   "source": [
    "# TODO: run me\n",
    "my_string = \"I am a string!\"\n",
    "result = my_string.islower()\n",
    "print(result)"
   ]
  },
  {
   "cell_type": "code",
   "execution_count": null,
   "metadata": {},
   "outputs": [],
   "source": [
    "# TODO: run me, then modify this code to test whether the variable\n",
    "# result is lower case or not. Print out your final assessment.\n",
    "my_string = \"I am a string!\"\n",
    "result = my_string.lower()\n",
    "print(result)"
   ]
  },
  {
   "cell_type": "code",
   "execution_count": null,
   "metadata": {},
   "outputs": [],
   "source": [
    "# TODO: now let's look at a tricky strings trap.\n",
    "# print out the length of the following string, then print out the lower\n",
    "# case version of it.\n",
    "s = \"I AM A STRING SUCH A STRINGY STRING STRING\""
   ]
  }
 ],
 "metadata": {
  "kernelspec": {
   "display_name": "Python 3",
   "language": "python",
   "name": "python3"
  },
  "language_info": {
   "codemirror_mode": {
    "name": "ipython",
    "version": 3
   },
   "file_extension": ".py",
   "mimetype": "text/x-python",
   "name": "python",
   "nbconvert_exporter": "python",
   "pygments_lexer": "ipython3",
   "version": "3.6.1"
  }
 },
 "nbformat": 4,
 "nbformat_minor": 2
}

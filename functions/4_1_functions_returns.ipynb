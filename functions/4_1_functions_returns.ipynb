{
 "cells": [
  {
   "cell_type": "markdown",
   "metadata": {},
   "source": [
    "Writing Functions with Returns\n",
    "================\n",
    "\n",
    "Let's write and call our own functions *__now, with returns!__* \n",
    "\n",
    "The basic format is:\n",
    "```python\n",
    "def function_name(parameters):\n",
    "    # code here\n",
    "    # notice that it is indented\n",
    "    # everything indented here is inside this function\n",
    "    return value\n",
    "```\n",
    "\n",
    "Remember, in [section 2.4](../week_2/2_4_input.ipynb) we introduced return values and in [section 3.1](../week_3/3_1_using_functions.ipynb) we talked about *using* functions with return values.\n",
    "\n",
    "Now, we're going to write functions with return values.\n",
    "\n",
    "Similarly to how we can think of parameters as __input__ to a function, we can think of a return value as __output__ from a function."
   ]
  },
  {
   "cell_type": "code",
   "execution_count": null,
   "metadata": {},
   "outputs": [],
   "source": [
    "# TODO: run this cell\n",
    "\n",
    "def get_num():\n",
    "    return 7\n",
    "\n",
    "# remember, when we use return values, they must be saved in a variable\n",
    "# if we want to use them later!\n",
    "num = get_num()\n",
    "print(num)"
   ]
  },
  {
   "cell_type": "code",
   "execution_count": null,
   "metadata": {},
   "outputs": [],
   "source": [
    "# TODO: edit this function so that it returns the value rather than \n",
    "# printing it\n",
    "def power(base, raised_to):\n",
    "    ans = base ** raised_to\n",
    "    print(ans)\n",
    "    \n",
    "# Notice that if you run this cell before changing the function to \n",
    "# return the answer, it will print out \"None\" instead because the power\n",
    "# function does not have a return value\n",
    "answer = power(2, 4)\n",
    "print(answer)"
   ]
  },
  {
   "cell_type": "markdown",
   "metadata": {},
   "source": [
    "Scope\n",
    "---------\n",
    "\n",
    "So, you might be wondering, how does scope interact with returns? That's a great question.\n",
    "\n",
    "Similarly to parameters, you can think of returns as returning a __value__ and not a __variable__.\n",
    "\n",
    "In the `get_num` and `power` examples above we saw that we can return a raw value (`7`) or we can return the value of a variable (`ans`). Internally to python these are going to be the same. `ans` is just calculated in the moment."
   ]
  },
  {
   "cell_type": "code",
   "execution_count": null,
   "metadata": {},
   "outputs": [],
   "source": [
    "# TODO: run this cell. Does our return value have to be saved in a variable\n",
    "# with the same name as it had inside the function?\n",
    "# Answer: \n",
    "def silly_fun():\n",
    "    x = 2\n",
    "    return x * x\n",
    "\n",
    "y = silly_fun()\n",
    "print(y)"
   ]
  },
  {
   "cell_type": "code",
   "execution_count": null,
   "metadata": {},
   "outputs": [],
   "source": [
    "# TODO: run this cell. Can we access the variable x from outside \n",
    "# the function?\n",
    "# Answer: \n",
    "y = silly_fun()\n",
    "print(y)\n",
    "print(x)"
   ]
  },
  {
   "cell_type": "code",
   "execution_count": null,
   "metadata": {},
   "outputs": [],
   "source": [
    "# TODO: run this cell. Can we see the changes from the function outside of\n",
    "# it, even if our int variable has the same name as inside the function?\n",
    "# Answer: \n",
    "def silly_fun2(x):\n",
    "    return x * x\n",
    "\n",
    "x = 7\n",
    "silly_fun(x)\n",
    "print(x)"
   ]
  }
 ],
 "metadata": {
  "kernelspec": {
   "display_name": "Python 3",
   "language": "python",
   "name": "python3"
  },
  "language_info": {
   "codemirror_mode": {
    "name": "ipython",
    "version": 3
   },
   "file_extension": ".py",
   "mimetype": "text/x-python",
   "name": "python",
   "nbconvert_exporter": "python",
   "pygments_lexer": "ipython3",
   "version": "3.6.1"
  }
 },
 "nbformat": 4,
 "nbformat_minor": 2
}

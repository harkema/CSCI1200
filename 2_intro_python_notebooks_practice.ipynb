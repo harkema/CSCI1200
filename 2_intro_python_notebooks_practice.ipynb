{
 "cells": [
  {
   "cell_type": "markdown",
   "metadata": {},
   "source": [
    "Introduction to Python\n",
    "============\n",
    "\n",
    "Python is the programming language that we are using in this course. We're using version 3, so if you have experience with Python 2.7, you will see a few things that are [different](https://sebastianraschka.com/Articles/2014_python_2_3_key_diff.html).\n",
    "\n",
    "Python programs are composed of a series of commands and statements that are executed in order, from top to bottom."
   ]
  },
  {
   "cell_type": "markdown",
   "metadata": {},
   "source": [
    "The `print` Command\n",
    "------------------\n",
    "\n",
    "In the previous installment, you saw the `print` command in some of the examples. Let's break an example down:\n",
    "\n",
    "```python\n",
    "print(\"hello\")\n",
    "```\n",
    "\n",
    "In this example you can see that there are 3 different parts to the command (demonstrated by the different colors).\n",
    "\n",
    "1. `print` this is the part of the command that says _what we want to do_.\n",
    "2. `( ... )` the parentheses are indicating that this command takes an argument (see part 3).\n",
    "3. `\"hello\"` this is what we call _the argument_. This is what we want to apply the command `print` to.\n",
    "    1. Note: to print text, it's important that we put quotes around it here.\n",
    "\n"
   ]
  },
  {
   "cell_type": "code",
   "execution_count": null,
   "metadata": {},
   "outputs": [],
   "source": [
    "# TODO: write a couple print statements here.\n",
    "\n",
    "\n",
    "\n",
    "# TODO: what order are your print statements executed \n",
    "# in when you run the code?\n",
    "# Answer:\n"
   ]
  }
 ],
 "metadata": {
  "kernelspec": {
   "display_name": "Python 3",
   "language": "python",
   "name": "python3"
  },
  "language_info": {
   "codemirror_mode": {
    "name": "ipython",
    "version": 3
   },
   "file_extension": ".py",
   "mimetype": "text/x-python",
   "name": "python",
   "nbconvert_exporter": "python",
   "pygments_lexer": "ipython3",
   "version": "3.6.1"
  }
 },
 "nbformat": 4,
 "nbformat_minor": 2
}

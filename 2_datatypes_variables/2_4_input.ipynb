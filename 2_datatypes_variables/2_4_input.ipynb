{
 "cells": [
  {
   "cell_type": "markdown",
   "metadata": {},
   "source": [
    "The `input` Command\n",
    "==============\n",
    "\n",
    "The `input()` command (or function) is a very useful command for making your programs interactive. \n",
    "\n",
    "Here is an example usage of this command:\n",
    "\n",
    "```python\n",
    "color = input(\"What is your favorite color? \")\n",
    "```\n",
    "\n",
    "Let's break down this command similarly to how we broke down the [print command](../week_1/1_2_intro_python_and_notebooks_practice.ipynb).\n",
    "\n",
    "The first 3 elements of the `input` command are the same as the `print` command:\n",
    "\n",
    "1. `input` this is the part of the command that says _what we want to do_.\n",
    "2. `( ... )` the parentheses are indicating that this command takes an argument (see part 3).\n",
    "3. `\"What is your favorite color? \"` this is what we call _the argument_. This is the prompt that we want to display to the user.\n",
    "    1. Note: don't forget your prompt! If you put nothing here, you will get confusing behavior.\n",
    "4. *__NEW__* `color = ` this is a variable that _saves the return value_. We'll break this part down more after we run the command to see what it actually does.\n",
    "\n",
    "The General Form\n",
    "-----------\n",
    "We can write a general form of how to use this command as:\n",
    "\n",
    "```python\n",
    "variable = input(prompt)\n",
    "```"
   ]
  },
  {
   "cell_type": "code",
   "execution_count": null,
   "metadata": {},
   "outputs": [],
   "source": [
    "# TODO: run this cell!\n",
    "# When you run this cell, there will be a text box where you can type.\n",
    "# To give answer, type in your color, then press the return key.\n",
    "color = input(\"What is your favorite color? \")\n",
    "print(\"You answered: \" + color)"
   ]
  },
  {
   "cell_type": "code",
   "execution_count": null,
   "metadata": {},
   "outputs": [],
   "source": [
    "# TODO: Run this cell!\n",
    "# This cell demonstrates the confusing behavior of input if you\n",
    "# forget to put in a prompt\n",
    "\n",
    "mystery = input() # I've forgotten a prompt!\n",
    "\n",
    "# Notice that when no prompt is given, the cell just \"hangs\" (keeps running)\n",
    "# without telling the user what to do!"
   ]
  },
  {
   "cell_type": "markdown",
   "metadata": {},
   "source": [
    "The Return Value\n",
    "-------------------\n",
    "\n",
    "Let's dive deeper into part 4 of this command — the part where we save the return value.\n",
    "\n",
    "__return value__: a value given back to the program (\"returned\") by a function or command.\n",
    "\n",
    "If you want to use a return value, they *__must always be saved in a variable__*.\n",
    "\n",
    "Let's look at what happens when we run the following code behind the scenes:\n",
    "\n",
    "```python\n",
    "color = input(\"What is your favorite color? \")\n",
    "print(\"You answered: \" + color)\n",
    "```\n",
    "\n",
    "1. The `input` command gets executed, printing \"What is your favorite color? \".\n",
    "2. The user types an answer to this question, then presses return.\n",
    "3. Pressing return indicates to the program that whatever the user typed should be the __return value__.\n",
    "4. The __return value__ gets stored in the variable `color`.\n",
    "5. The `print` command concatenates the value of the variable `color` to the end of the string \"You answered: \" then prints out the entire string.\n",
    "\n",
    "For example, if the user answers \"purple\":\n",
    "\n",
    "1. The `input` command gets executed, printing \"What is your favorite color? \".\n",
    "2. The user types \"purple\", then presses return.\n",
    "3. Pressing return indicates to the program that \"purple\" is the __return value__.\n",
    "4. The string \"purple\" gets stored in the variable `color`.\n",
    "5. The `print` command concatenates the value of the variable `color` (\"purple\") to the end of the string \"You answered: \" then prints out the entire string (\"You answered: purple\").\n",
    "\n",
    "Notice that the return value has a type: \"purple\" is a `string`.\n",
    "\n",
    "_All_ return values have types.\n",
    "\n",
    "The `input` function *__always always always__* returns a `string`. No matter what. ALWAYS."
   ]
  },
  {
   "cell_type": "code",
   "execution_count": null,
   "metadata": {},
   "outputs": [],
   "source": [
    "# TODO: run this cell. Answer the question with a number.\n",
    "age = input(\"How old are you? \")\n",
    "print(type(age))"
   ]
  },
  {
   "cell_type": "code",
   "execution_count": null,
   "metadata": {},
   "outputs": [],
   "source": [
    "# TODO: Add code to this cell so that the type of the variable age\n",
    "# becomes an integer, then run the cell. \n",
    "age = input(\"How old are you? \")\n",
    "\n",
    "# add code here to change age to an integer\n",
    "\n",
    "\n",
    "print(type(age))"
   ]
  },
  {
   "cell_type": "markdown",
   "metadata": {},
   "source": [
    "Type Casting + `input`\n",
    "-------------------\n",
    "\n",
    "When we are using the `input` function, we frequently use [type casting](2_3_casting.ipynb) to help convert the user's answer to the type that we actually want so that, for instance, we can do math."
   ]
  },
  {
   "cell_type": "code",
   "execution_count": null,
   "metadata": {},
   "outputs": [],
   "source": [
    "# TODO: run this cell. What error do you get?\n",
    "# Fix the error by adding the appropriate type casting function\n",
    "temp = input(\"What temperature is it outside (celsius)? \")  \n",
    "\n",
    "kelvin = temp + 273.15\n",
    "\n",
    "# notice the cast of the variable kelvin to a string — necessary so that\n",
    "# we can concatenate its value with other strings!\n",
    "print(\"It's \" + str(kelvin) + \" degrees kelvin!\") "
   ]
  },
  {
   "cell_type": "markdown",
   "metadata": {},
   "source": [
    "What to never ever do\n",
    "---------------------\n",
    "\n",
    "If you happen to write code that doesn't save the return value, you will not be able to access that information:\n",
    "\n",
    "```python\n",
    "input(\"How old are you? \")\n",
    "print(age)  # what is this variable? where did it come from? ERROR\n",
    "```\n",
    "\n",
    "A more devious example:\n",
    "```python\n",
    "age = \"27\"\n",
    "input(\"How old are you? \")\n",
    "print(age)  # No error! but NEVER the user's answer to the question\n",
    "```"
   ]
  },
  {
   "cell_type": "code",
   "execution_count": null,
   "metadata": {},
   "outputs": [],
   "source": []
  }
 ],
 "metadata": {
  "kernelspec": {
   "display_name": "Python 3",
   "language": "python",
   "name": "python3"
  },
  "language_info": {
   "codemirror_mode": {
    "name": "ipython",
    "version": 3
   },
   "file_extension": ".py",
   "mimetype": "text/x-python",
   "name": "python",
   "nbconvert_exporter": "python",
   "pygments_lexer": "ipython3",
   "version": "3.6.1"
  }
 },
 "nbformat": 4,
 "nbformat_minor": 2
}

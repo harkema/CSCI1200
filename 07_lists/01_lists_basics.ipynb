{
 "cells": [
  {
   "cell_type": "markdown",
   "metadata": {},
   "source": [
    "Introduction to Lists\n",
    "=========\n",
    "\n",
    "We're going to start learning about lists this week. Lists can get pretty complex, but we're going to start with the basics.\n",
    "\n",
    "__list__: an ordered collection of values. Lists are a container type that holds other values.\n",
    "\n",
    "__element__: a single item in a list.\n",
    "\n",
    "__index__: the location of any given element."
   ]
  },
  {
   "cell_type": "markdown",
   "metadata": {},
   "source": [
    "Creating Lists\n",
    "---------\n",
    "\n",
    "The syntax of creating a list is as follows:\n",
    "\n",
    "```python\n",
    "[\"cat\", \"dog\", \"zebra\"]  # a list of strings\n",
    "```\n",
    "\n",
    "It starts and ends with square brackets and each element is separated with a comma."
   ]
  },
  {
   "cell_type": "code",
   "execution_count": null,
   "metadata": {},
   "outputs": [],
   "source": [
    "# TODO: run this cell. What is the type of a list?\n",
    "# Answer:\n",
    "type([\"cat\", \"dog\", \"zebra\"])"
   ]
  },
  {
   "cell_type": "markdown",
   "metadata": {},
   "source": [
    "We can save lists in variables just like other python data types:\n",
    "\n",
    "```python\n",
    "my_list = [2, 3, 7, 100, -1] # a list of ints\n",
    "```\n",
    "\n",
    "Lists can contain any other type that we want.\n",
    "\n",
    "```python\n",
    "my_list2 = [0.0, -2.3] # a list of floats\n",
    "my_list3 = [True, False, False, False] # a list of booleans\n",
    "```\n",
    "\n",
    "Lists can have anywhere from 0 to many, many elements. Here is an example of a list with zero elements (we call this an __empty__ list, just like an empty string is a string with no characters):\n",
    "\n",
    "```python\n",
    "my_empty_list = []\n",
    "```\n"
   ]
  },
  {
   "cell_type": "markdown",
   "metadata": {},
   "source": [
    "Lists - usage, length, indexing\n",
    "----------------\n",
    "\n",
    "Lists can be used whereever we use variables of other data types. They can be used as parameters to functions, they can be used as return values from functions, they can be used as local variables. The possibilities are many!\n",
    "\n",
    "Practically speaking, lists are similar to (but not the same as!) `string`s in how we interact with them in 2 key ways.\n",
    "\n",
    "1. Lists have lengths. We can access this length with the `len()` function."
   ]
  },
  {
   "cell_type": "code",
   "execution_count": null,
   "metadata": {},
   "outputs": [],
   "source": [
    "# TODO: use the len() function to find the length of the lists in this cell\n",
    "my_list = [2, 3, 7, 100, -1] # a list of ints\n",
    "my_list2 = [0.0, -2.3] # a list of floats\n",
    "my_list3 = [True, False, False, False] # a list of booleans\n",
    "my_empty_list = []\n",
    "\n",
    "# for example\n",
    "print(len(my_list))"
   ]
  },
  {
   "cell_type": "markdown",
   "metadata": {},
   "source": [
    "2. Each element in a list has an index-the placement in the list that we can use to access the element. Lists are what we call \"0-indexed\". This means that the first element is at index 0. Let's take a look at an example.\n",
    "\n",
    "__syntax of accessing elements__: to access an element, we type `list[index]`. Where `list` is the variable name where our list is stored."
   ]
  },
  {
   "cell_type": "code",
   "execution_count": null,
   "metadata": {},
   "outputs": [],
   "source": [
    "\n",
    "# We've marked the indices in the comment below\n",
    "#           0          1           2\n",
    "list4 = [\"wallaby\", \"koala\", \"Kookaburra\"]\n",
    "print(len(list4))  # this list has 3 elements\n",
    "print(list4[0])  # access the first element\n",
    "print(list4[1])  # access the second element\n",
    "print(list4[2])  # access the second element\n",
    "print(list4[3])  # What happens if you try to access an element that doesn't exist?\n"
   ]
  },
  {
   "cell_type": "markdown",
   "metadata": {},
   "source": [
    "Creating Lists from Strings\n",
    "--------------\n",
    "\n",
    "It's very useful to be able to take a string and create a list out of it. Say, for example, that we want to separate a string into its composite words. We'll use the `str.split()` function to acheive this.\n",
    "\n",
    "```python\n",
    "sentence = \"The quick brown fox jumped over the galactic destroyer\"\n",
    "words = sentence.split()  # no parameters means split on spaces\n",
    "```\n",
    "\n",
    "Note that the `str.split()` function __returns__ a list so you must save it in a variable if you want to use it!"
   ]
  },
  {
   "cell_type": "code",
   "execution_count": null,
   "metadata": {},
   "outputs": [],
   "source": [
    "# TODO: what are the values in the list words? what is its length?\n",
    "sentence = \"The quick brown fox jumped over the galactic destroyer\"\n",
    "words = sentence.split()  # no parameters means split on spaces"
   ]
  },
  {
   "cell_type": "markdown",
   "metadata": {},
   "source": [
    "The `str.split()` function optionally takes a parameter that indicates what to split on. Run the following code snippets to explore this."
   ]
  },
  {
   "cell_type": "code",
   "execution_count": null,
   "metadata": {},
   "outputs": [],
   "source": [
    "# TODO: explore splitting on different strings.\n",
    "veggies = \"broccoli,spinach,tomatoes,oranges?\"\n",
    "by_comma = veggies.split(\",\")\n",
    "print(by_comma)\n",
    "print(len(by_comma))\n",
    "# experiment with splitting on other strings here!"
   ]
  },
  {
   "cell_type": "code",
   "execution_count": null,
   "metadata": {},
   "outputs": [],
   "source": []
  },
  {
   "cell_type": "code",
   "execution_count": null,
   "metadata": {},
   "outputs": [],
   "source": []
  }
 ],
 "metadata": {
  "kernelspec": {
   "display_name": "Python 3",
   "language": "python",
   "name": "python3"
  },
  "language_info": {
   "codemirror_mode": {
    "name": "ipython",
    "version": 3
   },
   "file_extension": ".py",
   "mimetype": "text/x-python",
   "name": "python",
   "nbconvert_exporter": "python",
   "pygments_lexer": "ipython3",
   "version": "3.6.1"
  }
 },
 "nbformat": 4,
 "nbformat_minor": 2
}

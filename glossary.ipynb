{
 "cells": [
  {
   "cell_type": "markdown",
   "metadata": {},
   "source": [
    "(This file will be updated throughout the course of the semester. We recommend that you re-download it when you download the notes for the next week.\n",
    "\n",
    "Want some term added to this notebook? Post a request on piazza and we'll add it for the next installment!)\n",
    "\n",
    "Terms are linked to the first/main time they are discussed. Links depend on you having the following folder layout. \n",
    "\n",
    "- notes folder/\n",
    "   - glossary.ipynb\n",
    "   - week_1/\n",
    "   - week_2/\n",
    "   - etc...\n",
    "\n",
    "Jupyter-specific\n",
    "--------------\n",
    "[__notebook__](week_1/1_1_intro_jupyter_notebooks.ipynb): one file that runs on Jupyter Notebook. Contains one or more cells. Cells should be executed from top to bottom of the notebook.\n",
    "\n",
    "[__cell__](week_1/1_1_intro_jupyter_notebooks.ipynb): one section of a notebook. May contain text or code. May contain more than one line of code.\n",
    "\n",
    "[__`In [ ]:`__](week_1/1_1_intro_jupyter_notebooks.ipynb): the text to the left of a cell indicating the order in which cells are executed.\n",
    "\n",
    "[__`Out [ ]:`__](week_2/2_2_data_types_operations.ipynb): the text that appears to the left of the output of a cell indicating that this output has only been interpreted, it has not been printed.\n",
    "\n",
    "\n",
    "Computers/ Programming/Python\n",
    "--------------------\n",
    "\n",
    "__call__: we say \"call a function\" to mean that we want to run that function.\n",
    "\n",
    "[__cast__](week_2/2_3_casting.ipynb): change the type of one value to another value.\n",
    "\n",
    "[__command__](week_1/1_2_intro_python_and_notebooks_practice.ipynb): another name for a __function__ that is not user-defined, such as `print` and `input`. All commands can also be called functions.\n",
    "\n",
    "\n",
    "__function__: a block of code that can be called (run) multiple times.\n",
    "\n",
    "\n",
    "[__return value__](week_2/2_4_input.ipynb): the value given back to the program by a function when it finishes running.\n",
    "\n",
    "[__value__](week_2/2_2_data_types_operations.ipynb): a number, piece of text, or other data that is the representation of some entity. All variables hold values.\n",
    "\n",
    "[__variable__](week_1/1_2_intro_python_and_notebooks_practice.ipynb): the symbolic name for a value as it is used throughout a program.\n",
    "\n"
   ]
  },
  {
   "cell_type": "code",
   "execution_count": null,
   "metadata": {},
   "outputs": [],
   "source": []
  }
 ],
 "metadata": {
  "kernelspec": {
   "display_name": "Python 3",
   "language": "python",
   "name": "python3"
  },
  "language_info": {
   "codemirror_mode": {
    "name": "ipython",
    "version": 3
   },
   "file_extension": ".py",
   "mimetype": "text/x-python",
   "name": "python",
   "nbconvert_exporter": "python",
   "pygments_lexer": "ipython3",
   "version": "3.6.1"
  }
 },
 "nbformat": 4,
 "nbformat_minor": 2
}

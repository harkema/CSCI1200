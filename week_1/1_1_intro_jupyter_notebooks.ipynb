{
 "cells": [
  {
   "cell_type": "markdown",
   "metadata": {},
   "source": [
    "Welcome to the CSCI 1200 interactive notes and workbook!\n",
    "=======\n",
    "\n",
    "This set of notes is meant to supplement the lectures and lab materials.  \n",
    "These notes are a great place to review concepts that we've been over in class and to play around with code.  \n",
    "\n",
    "\n",
    "If you ever worry that you have deleted a part of one of these notebooks, or messed it up in some way, remember that you can always re-download them  from the course website!\n",
    "\n",
    "For the links between notebooks to work in these notes, you need to preserve the structure that we provide (all week 1 notes in the `week_1` folder, all of the `week` folders located in the same parent folder).\n",
    "\n",
    "\n",
    "Now, let's get down to business."
   ]
  },
  {
   "cell_type": "markdown",
   "metadata": {},
   "source": [
    "Anatomy of a Jupyter Notebook\n",
    "-----------------\n",
    "Jupyter Notebooks are centered around units called \"cells\". Cells are where you write code (and also where we are writing instructions now). \n",
    "\n",
    "In these notes you'll see code inserted in two different ways:  \n",
    "1. embedded in text (non-interactive)  \n",
    "`print(\"hello\")` inline or in it's own block as below:\n",
    "\n",
    "```python\n",
    "print(\"ahoy\")\n",
    "```\n",
    "2. in a cell (interactive! see below) \n"
   ]
  },
  {
   "cell_type": "code",
   "execution_count": null,
   "metadata": {},
   "outputs": [],
   "source": [
    "# TODO: run this cell.\n",
    "print(\"greetings\")"
   ]
  },
  {
   "cell_type": "markdown",
   "metadata": {},
   "source": [
    "Notice that when code is in interactive cells, it has the text `In [  ] :` to the left of it. When we run a cell, this will update with the next number, starting with a 1. This is to help us keep track of the order that we have run our cells in.\n",
    "\n",
    "Let's try running the code in the cell above and see what happens. There are many ways to run a cell in a jupyter notebook. Try to find at least two different ways. Watch how the number in the brackets of `In [  ] :` updates. (Hint: click on the cell that you want to run, then look at the \"Cell\" menu at the top of the page.)\n",
    "\n",
    "You can modify the interactive cells to change what happens when they run. Try to modify the cell above this one with the `print` command so that it prints out a different word instead of \"greetings\"."
   ]
  },
  {
   "cell_type": "markdown",
   "metadata": {},
   "source": [
    "What is a Kernel?\n",
    "-----------\n",
    "\n",
    "[Wikipedia](https://en.wikipedia.org/wiki/Kernel_(operating_system)) definition: The kernel is a computer program that is the core of a computer's operating system, with complete control over everything in the system.\n",
    "\n",
    "__What you need to know__: The kernel is what is making it so that our jupyter notebooks run. Each notebook has a separate kernel so that code from separate notebooks don't cause problems with each other. The \"Kernel\" menu is what will let you restart your notebook if it starts not responding or if you want to double check that your answers are correct from a \"clean\" starting state (more on this in later course notes on debugging juptyer notebooks)."
   ]
  },
  {
   "cell_type": "markdown",
   "metadata": {},
   "source": [
    "Completing Exercises\n",
    "---------------\n",
    "\n",
    "Sometimes in these notes and in the homeworks, there will be exercises for you to do. Notice that these are marked with the word \"TODO\" (to do) in comments. \n",
    "\n",
    "\n",
    "For instance, we might put in a cell for you edit the code in:"
   ]
  },
  {
   "cell_type": "code",
   "execution_count": null,
   "metadata": {},
   "outputs": [],
   "source": [
    "# TODO: edit this cell so that when you run it, it prints out your name\n",
    "print(\"\")"
   ]
  },
  {
   "cell_type": "markdown",
   "metadata": {},
   "source": [
    "Sometimes, there will be exercises where you may be asked to fill in a blank or complete a sentence:"
   ]
  },
  {
   "cell_type": "code",
   "execution_count": null,
   "metadata": {},
   "outputs": [],
   "source": [
    "# TODO: fill in the blank\n",
    "# When I run a print statement in a jupyter notebook, the output\n",
    "# is printed _________ the cell.\n",
    "\n",
    "print(\"The closests living relatives to the rock hyrax are elephants!\")"
   ]
  },
  {
   "cell_type": "markdown",
   "metadata": {},
   "source": [
    "Sometimes you will be asked to write code from scratch:"
   ]
  },
  {
   "cell_type": "code",
   "execution_count": null,
   "metadata": {},
   "outputs": [],
   "source": [
    "# TODO: write the code that prints out your favorite animal"
   ]
  },
  {
   "cell_type": "markdown",
   "metadata": {},
   "source": [
    "Sometimes you will be asked to answer a question:"
   ]
  },
  {
   "cell_type": "code",
   "execution_count": null,
   "metadata": {},
   "outputs": [],
   "source": [
    "# TODO: what are three different ways to run a cell in a jupyter notebook?\n",
    "# (hint: 2 ways involve clicking on menus/buttons, 1 way uses the keyboard)\n",
    "# Answer:"
   ]
  },
  {
   "cell_type": "markdown",
   "metadata": {},
   "source": [
    "Editing these Notebooks\n",
    "------\n",
    "If you accidentally delete/change/etc a cell, use the \"Edit\" menu at the top of the page to help undo your change.\n",
    "\n",
    "You can also use copy, paste, and undo shortcuts that you may be used to using in programs like Microsoft Word.\n",
    "\n",
    "Similarly, you can save the changes to these notebooks, if for instance, you are working on an example and want to show your work to your TA the next day. The \"File\" menu has a saving option, there is a save button (the floppy disk icon), and you can also use the keyboard saving shortcut that you may be used to. "
   ]
  },
  {
   "cell_type": "markdown",
   "metadata": {},
   "source": [
    "Troubleshooting these Notebooks\n",
    "---------\n",
    "\n",
    "You may find that you ran a cell and it is taking much longer than it should. Rather than closing Jupyter Notebook, you can press the stop button (to the right of the run button just below the \"Kernel\" menu). What this will do is interupt the code that you were running, which can be very helpful."
   ]
  },
  {
   "cell_type": "markdown",
   "metadata": {},
   "source": [
    "Acknowledgements\n",
    "==============\n",
    "\n",
    "These notes have taken much inspiration from the interactive textbook How to Think Like a Computer Scientist by Brad MIller and David Ranum."
   ]
  }
 ],
 "metadata": {
  "kernelspec": {
   "display_name": "Python 3",
   "language": "python",
   "name": "python3"
  },
  "language_info": {
   "codemirror_mode": {
    "name": "ipython",
    "version": 3
   },
   "file_extension": ".py",
   "mimetype": "text/x-python",
   "name": "python",
   "nbconvert_exporter": "python",
   "pygments_lexer": "ipython3",
   "version": "3.6.1"
  }
 },
 "nbformat": 4,
 "nbformat_minor": 2
}
